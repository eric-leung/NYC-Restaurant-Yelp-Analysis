{
 "cells": [
  {
   "cell_type": "markdown",
   "metadata": {},
   "source": [
    "# AWS Comprehend Test"
   ]
  },
  {
   "cell_type": "code",
   "execution_count": 15,
   "metadata": {},
   "outputs": [],
   "source": [
    "from requests import get \n",
    "\n",
    "url = \"https://www.yelp.com/biz/peter-luger-brooklyn\"\n",
    "response = get(url)"
   ]
  },
  {
   "cell_type": "code",
   "execution_count": 16,
   "metadata": {},
   "outputs": [],
   "source": [
    "from bs4 import BeautifulSoup\n",
    "\n",
    "html_soup = BeautifulSoup(response.text, \"html.parser\")"
   ]
  },
  {
   "cell_type": "code",
   "execution_count": 17,
   "metadata": {},
   "outputs": [],
   "source": [
    "review_containers = html_soup.find_all(\"div\", class_ = \"review review--with-sidebar\")"
   ]
  },
  {
   "cell_type": "code",
   "execution_count": 18,
   "metadata": {},
   "outputs": [
    {
     "name": "stdout",
     "output_type": "stream",
     "text": [
      "I've turned into an expense account steak snob living in Chicago over the past decade and was excited to try Peter Luger, although a bit apprehensive it would live up to the hype.  Not only did it live up, it blew me away.  I like a good sear on a medium rare steak and nothing but salt &amp; pepper.  The porterhouse for 2 two that we shared was spot on (although I did add a tiny bit more salt) and it comes sitting in hot juices that are spooned over the steak adding to the flavor.  It was simple and unpretentious and beautifully done.   As for other items, they were hit or miss... the thick cut bacon was reeeeeeally good. The wedge salad was huge so we shared that but the lettuce was unbelievably watery and it's not something I would order again.  The onion rings were boring and not well breaded, I would skip those.  But the creamed spinach was to die for - unique and delicious.  I loved it so much, in fact, I tried to get reservations again the very next night. That didn't pan out because it's booked months in advance and probably a good idea that I didn't stuff my face with that much red meat two nights in a row but I could not get that steak off the brain. Still can't.  The one off-putting thing about the restaurant is the insane number of children there eating with their parents.  I come from a family where eating out as a kid was a trip to Pizza Hut and an insane privilege at that.  These douche bags buying their 6 and 10 yr olds steaks at $50 a head blows me away.  4 out of the 10 tables in the room we were in has kids under the age of 10 at them.  That was a huge turn off when you are spending that kind of money, but not enough that I wouldn't go back.\n"
     ]
    }
   ],
   "source": [
    "import re\n",
    "\n",
    "first_review = str((review_containers[0]).p)\n",
    "\n",
    "clean = re.compile('<.*?>')\n",
    "first_review = re.sub(clean, '', first_review)\n",
    "\n",
    "print(first_review)"
   ]
  },
  {
   "cell_type": "code",
   "execution_count": 19,
   "metadata": {},
   "outputs": [
    {
     "name": "stdout",
     "output_type": "stream",
     "text": [
      "Requirement already satisfied: boto3 in c:\\users\\ericm\\anaconda3\\lib\\site-packages (1.9.45)\n",
      "Requirement already satisfied: jmespath<1.0.0,>=0.7.1 in c:\\users\\ericm\\anaconda3\\lib\\site-packages (from boto3) (0.9.3)\n",
      "Requirement already satisfied: botocore<1.13.0,>=1.12.45 in c:\\users\\ericm\\anaconda3\\lib\\site-packages (from boto3) (1.12.45)\n",
      "Requirement already satisfied: s3transfer<0.2.0,>=0.1.10 in c:\\users\\ericm\\anaconda3\\lib\\site-packages (from boto3) (0.1.13)\n",
      "Requirement already satisfied: python-dateutil<3.0.0,>=2.1; python_version >= \"2.7\" in c:\\users\\ericm\\anaconda3\\lib\\site-packages (from botocore<1.13.0,>=1.12.45->boto3) (2.7.3)\n",
      "Requirement already satisfied: urllib3<1.25,>=1.20; python_version >= \"3.4\" in c:\\users\\ericm\\anaconda3\\lib\\site-packages (from botocore<1.13.0,>=1.12.45->boto3) (1.23)\n",
      "Requirement already satisfied: docutils>=0.10 in c:\\users\\ericm\\anaconda3\\lib\\site-packages (from botocore<1.13.0,>=1.12.45->boto3) (0.14)\n",
      "Requirement already satisfied: six>=1.5 in c:\\users\\ericm\\anaconda3\\lib\\site-packages (from python-dateutil<3.0.0,>=2.1; python_version >= \"2.7\"->botocore<1.13.0,>=1.12.45->boto3) (1.11.0)\n"
     ]
    }
   ],
   "source": [
    "! pip install boto3"
   ]
  },
  {
   "cell_type": "code",
   "execution_count": 20,
   "metadata": {},
   "outputs": [],
   "source": [
    "import boto3\n",
    "import json"
   ]
  },
  {
   "cell_type": "code",
   "execution_count": 21,
   "metadata": {},
   "outputs": [],
   "source": [
    "with open('rootkey.json', 'r') as json_file:\n",
    "    rootkey = json.load(json_file)"
   ]
  },
  {
   "cell_type": "code",
   "execution_count": 22,
   "metadata": {},
   "outputs": [
    {
     "name": "stdout",
     "output_type": "stream",
     "text": [
      "Calling DetectSentiment\n",
      "{\n",
      "    \"ResponseMetadata\": {\n",
      "        \"HTTPHeaders\": {\n",
      "            \"connection\": \"keep-alive\",\n",
      "            \"content-length\": \"160\",\n",
      "            \"content-type\": \"application/x-amz-json-1.1\",\n",
      "            \"date\": \"Fri, 23 Nov 2018 03:40:15 GMT\",\n",
      "            \"x-amzn-requestid\": \"7da4ae19-eed1-11e8-bab1-4bcfbbddefa0\"\n",
      "        },\n",
      "        \"HTTPStatusCode\": 200,\n",
      "        \"RequestId\": \"7da4ae19-eed1-11e8-bab1-4bcfbbddefa0\",\n",
      "        \"RetryAttempts\": 0\n",
      "    },\n",
      "    \"Sentiment\": \"POSITIVE\",\n",
      "    \"SentimentScore\": {\n",
      "        \"Mixed\": 0.1945708990097046,\n",
      "        \"Negative\": 0.1409486085176468,\n",
      "        \"Neutral\": 0.01207425445318222,\n",
      "        \"Positive\": 0.6524062752723694\n",
      "    }\n",
      "}\n",
      "End of DetectSentiment\n",
      "\n"
     ]
    }
   ],
   "source": [
    "comprehend = boto3.client(service_name='comprehend', region_name='us-east-1',\n",
    "                          aws_access_key_id=rootkey['AWSAccessKeyId'],\n",
    "                          aws_secret_access_key=rootkey['AWSSecretKey'])\n",
    "\n",
    "print('Calling DetectSentiment')\n",
    "print(json.dumps(comprehend.detect_sentiment(Text=first_review, LanguageCode='en'), sort_keys=True, indent=4))\n",
    "print('End of DetectSentiment\\n')"
   ]
  }
 ],
 "metadata": {
  "kernelspec": {
   "display_name": "Python 3",
   "language": "python",
   "name": "python3"
  },
  "language_info": {
   "codemirror_mode": {
    "name": "ipython",
    "version": 3
   },
   "file_extension": ".py",
   "mimetype": "text/x-python",
   "name": "python",
   "nbconvert_exporter": "python",
   "pygments_lexer": "ipython3",
   "version": "3.7.0"
  }
 },
 "nbformat": 4,
 "nbformat_minor": 2
}
