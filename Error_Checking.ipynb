{
 "cells": [
  {
   "cell_type": "code",
   "execution_count": 10,
   "metadata": {},
   "outputs": [
    {
     "name": "stdout",
     "output_type": "stream",
     "text": [
      "<!doctype html>\n",
      "    <!--[if lt IE 7 ]> <html class=\"ie6 ie ltie9 ltie8 no-js\" lang=\"en_US\"> <![endif]-->\n",
      "    <!--[if IE 7 ]>    <html class=\"ie7 ie ltie9 ltie8 no-js\" lang=\"en_US\"> <![endif]-->\n",
      "    <!--[if IE 8 ]>    <html class=\"ie8 ie ltie9 no-js\" lang=\"en_US\"> <![endif]-->\n",
      "    <!--[if IE 9 ]>    <html class=\"ie9 ie no-js\" lang=\"en_US\"> <![endif]-->\n",
      "    <!--[if (gt IE 9)|!(IE)]><!--> <html class=\"no-js\" lang=\"en_US\"> <!--<![endif]-->\n",
      "        <head>\n",
      "        <meta http-equiv=\"Content-Type\" conte\n",
      "404 ERROR\n"
     ]
    }
   ],
   "source": [
    "from bs4 import BeautifulSoup\n",
    "from requests import get \n",
    "\n",
    "url = \"https://www.yelp.com/biz/the-regal-queens\"\n",
    "    \n",
    "response = get(url)\n",
    "print(response.text[:500])\n",
    "\n",
    "html_soup = BeautifulSoup(response.text, \"html.parser\")\n",
    "\n",
    "if html_soup.find(\"body\", class_ = \"error-page\"):\n",
    "    print(\"404 ERROR\")\n",
    "else:\n",
    "    print(\"200 OKAY\")\n"
   ]
  },
  {
   "cell_type": "code",
   "execution_count": null,
   "metadata": {},
   "outputs": [],
   "source": []
  }
 ],
 "metadata": {
  "kernelspec": {
   "display_name": "Python 3",
   "language": "python",
   "name": "python3"
  },
  "language_info": {
   "codemirror_mode": {
    "name": "ipython",
    "version": 3
   },
   "file_extension": ".py",
   "mimetype": "text/x-python",
   "name": "python",
   "nbconvert_exporter": "python",
   "pygments_lexer": "ipython3",
   "version": "3.7.0"
  }
 },
 "nbformat": 4,
 "nbformat_minor": 2
}
